{
 "cells": [
  {
   "cell_type": "code",
   "execution_count": 2,
   "id": "24558bf0",
   "metadata": {},
   "outputs": [],
   "source": [
    "board = {}"
   ]
  },
  {
   "cell_type": "code",
   "execution_count": 19,
   "id": "269ef227",
   "metadata": {},
   "outputs": [],
   "source": [
    "board = [[0 for _ in range(8)] for _ in range(8)]"
   ]
  },
  {
   "cell_type": "code",
   "execution_count": 20,
   "id": "c7e798d0",
   "metadata": {},
   "outputs": [
    {
     "data": {
      "text/plain": [
       "list"
      ]
     },
     "execution_count": 20,
     "metadata": {},
     "output_type": "execute_result"
    }
   ],
   "source": [
    "type(board)"
   ]
  },
  {
   "cell_type": "code",
   "execution_count": 27,
   "id": "0304652c",
   "metadata": {},
   "outputs": [],
   "source": [
    "import bin.initializeBoard as ib"
   ]
  },
  {
   "cell_type": "code",
   "execution_count": 28,
   "id": "c97f1011",
   "metadata": {},
   "outputs": [
    {
     "ename": "NameError",
     "evalue": "name 'board' is not defined",
     "output_type": "error",
     "traceback": [
      "\u001b[31m---------------------------------------------------------------------------\u001b[39m",
      "\u001b[31mNameError\u001b[39m                                 Traceback (most recent call last)",
      "\u001b[36mCell\u001b[39m\u001b[36m \u001b[39m\u001b[32mIn[28]\u001b[39m\u001b[32m, line 1\u001b[39m\n\u001b[32m----> \u001b[39m\u001b[32m1\u001b[39m \u001b[43mib\u001b[49m\u001b[43m.\u001b[49m\u001b[43minitializeBoard\u001b[49m\u001b[43m(\u001b[49m\u001b[43m)\u001b[49m\n",
      "\u001b[36mFile \u001b[39m\u001b[32mc:\\Users\\DB676EB\\Projects\\chessEngine\\bin\\initializeBoard.py:15\u001b[39m, in \u001b[36minitializeBoard\u001b[39m\u001b[34m()\u001b[39m\n\u001b[32m      2\u001b[39m def initializeBoard():\n\u001b[32m      3\u001b[39m     \"\"\"\n\u001b[32m      4\u001b[39m     Creates the initial chess board as a list of lists.\n\u001b[32m      5\u001b[39m \n\u001b[32m   (...)\u001b[39m\u001b[32m     11\u001b[39m         the last two rows contain the black pawns and pieces respectively.\n\u001b[32m     12\u001b[39m     \"\"\"\n\u001b[32m     14\u001b[39m     # Initialize the chess board with empty squares represented by 0\n\u001b[32m---> \u001b[39m\u001b[32m15\u001b[39m     # The board is an 8x8 grid, so we create a list of lists with 8 rows and 8 columns\n\u001b[32m     16\u001b[39m     board = [[0 for _ in range(8)] for _ in range(8)]\n\u001b[32m     18\u001b[39m     # Place the white pieces on the first row\n",
      "\u001b[31mNameError\u001b[39m: name 'board' is not defined"
     ]
    }
   ],
   "source": [
    "ib.initializeBoard()"
   ]
  },
  {
   "cell_type": "code",
   "execution_count": 25,
   "id": "f3e19d30",
   "metadata": {},
   "outputs": [],
   "source": [
    "    board = [[0 for _ in range(8)] for _ in range(8)]\n",
    "\n",
    "    # Place the white pieces on the first row\n",
    "    board[0][0] = 'r'  # Rook\n",
    "    board[0][1] = 'n'  # Knight\n",
    "    board[0][2] = 'b'  # Bishop\n",
    "    board[0][3] = 'q'  # Queen\n",
    "    board[0][4] = 'k'  # King\n",
    "    board[0][5] = 'b'  # Bishop\n",
    "    board[0][6] = 'n'  # Knight\n",
    "    board[0][7] = 'r'  # Rook\n",
    "\n",
    "    board[1] = ['p' for _ in range(8)]  # Pawns  \n",
    "    "
   ]
  },
  {
   "cell_type": "code",
   "execution_count": 26,
   "id": "03cf5850",
   "metadata": {},
   "outputs": [
    {
     "data": {
      "text/plain": [
       "[['r', 'n', 'b', 'q', 'k', 'b', 'n', 'r'],\n",
       " ['p', 'p', 'p', 'p', 'p', 'p', 'p', 'p'],\n",
       " [0, 0, 0, 0, 0, 0, 0, 0],\n",
       " [0, 0, 0, 0, 0, 0, 0, 0],\n",
       " [0, 0, 0, 0, 0, 0, 0, 0],\n",
       " [0, 0, 0, 0, 0, 0, 0, 0],\n",
       " [0, 0, 0, 0, 0, 0, 0, 0],\n",
       " [0, 0, 0, 0, 0, 0, 0, 0]]"
      ]
     },
     "execution_count": 26,
     "metadata": {},
     "output_type": "execute_result"
    }
   ],
   "source": [
    "board"
   ]
  },
  {
   "cell_type": "markdown",
   "id": "55582479",
   "metadata": {},
   "source": [
    "# Snippets\n",
    "\n",
    "Some snippets that might prove useful along the way.\n",
    "\n",
    "``` python \n",
    "import subprocess\n",
    "subprocess.run(['python', 'load_game.py'])\n",
    "```"
   ]
  },
  {
   "cell_type": "code",
   "execution_count": null,
   "id": "530463ba",
   "metadata": {},
   "outputs": [],
   "source": []
  }
 ],
 "metadata": {
  "kernelspec": {
   "display_name": "venvChess",
   "language": "python",
   "name": "python3"
  },
  "language_info": {
   "codemirror_mode": {
    "name": "ipython",
    "version": 3
   },
   "file_extension": ".py",
   "mimetype": "text/x-python",
   "name": "python",
   "nbconvert_exporter": "python",
   "pygments_lexer": "ipython3",
   "version": "3.11.0"
  }
 },
 "nbformat": 4,
 "nbformat_minor": 5
}
